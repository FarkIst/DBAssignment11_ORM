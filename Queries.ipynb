{
 "cells": [
  {
   "cell_type": "code",
   "execution_count": 59,
   "metadata": {},
   "outputs": [],
   "source": [
    "import sys\n",
    "import mysql.connector\n",
    "\n",
    "def connect(user):\n",
    "    conn = mysql.connector.connect(host='localhost', database='microshop', user=user)\n",
    "    conn.autocommit = True\n",
    "    return conn\n",
    "\n",
    "rootconn = connect('user')\n",
    "\n",
    "\n",
    "def sqlQuery(sqlString, conn=rootconn):\n",
    "    try:\n",
    "        cursor = rootconn.cursor()\n",
    "        cursor.execute(sqlString)\n",
    "        res = cursor.fetchall()\n",
    "        return res\n",
    "    except Exception as ex:\n",
    "        print(str(ex), file=sys.stderr)\n",
    "    finally:    \n",
    "        cursor.close()\n",
    "\n",
    "def sqlDo(sqlString, conn=rootconn):\n",
    "    try:\n",
    "        cursor = conn.cursor()\n",
    "        cursor.execute(sqlString)\n",
    "        res = cursor.fetchwarnings()\n",
    "        return res\n",
    "    except Exception as ex:\n",
    "        print(str(ex), file=sys.stderr)\n",
    "    finally:    \n",
    "        cursor.close()"
   ]
  },
  {
   "cell_type": "code",
   "execution_count": 60,
   "metadata": {},
   "outputs": [
    {
     "data": {
      "text/plain": [
       "[('customer',), ('order',), ('order_line',), ('product',)]"
      ]
     },
     "execution_count": 60,
     "metadata": {},
     "output_type": "execute_result"
    }
   ],
   "source": [
    "sqlQuery(\"show tables\")"
   ]
  },
  {
   "cell_type": "code",
   "execution_count": 84,
   "metadata": {},
   "outputs": [],
   "source": [
    "def myQuery(query):\n",
    "    q = f\"select * from {query}\"\n",
    "    print(q)\n",
    "    return sqlQuery(q)\n",
    "\n"
   ]
  },
  {
   "cell_type": "code",
   "execution_count": 85,
   "metadata": {},
   "outputs": [
    {
     "name": "stdout",
     "output_type": "stream",
     "text": [
      "select * from customer\n",
      "(1, 'farki')\n",
      "(2, 'Joe')\n"
     ]
    }
   ],
   "source": [
    "#return all customers\n",
    "\n",
    "customers = myQuery(\"customer\")\n",
    "for customer in customers:\n",
    "    print(customer)"
   ]
  },
  {
   "cell_type": "code",
   "execution_count": 82,
   "metadata": {},
   "outputs": [],
   "source": [
    "#Updating myQuery\n",
    "\n",
    "def myQuery1(query):\n",
    "    res = query.split('.')\n",
    "    if(len(res) < 2):\n",
    "        q = f\"select * from {query}\"\n",
    "        return sqlQuery(q) \n",
    "    else:\n",
    "        q = f\"select {res[1]} from {res[0]}\"\n",
    "        print(q)\n",
    "        return sqlQuery(q)\n",
    "\n",
    "\n"
   ]
  },
  {
   "cell_type": "code",
   "execution_count": 83,
   "metadata": {},
   "outputs": [
    {
     "name": "stdout",
     "output_type": "stream",
     "text": [
      "select name from customer\n",
      "('farki',)\n",
      "('Joe',)\n"
     ]
    }
   ],
   "source": [
    "#return all customer names\n",
    "\n",
    "names = myQuery1(\"customer.name\")\n",
    "for name in names:\n",
    "    print(name)"
   ]
  },
  {
   "cell_type": "code",
   "execution_count": 134,
   "metadata": {},
   "outputs": [
    {
     "data": {
      "text/plain": [
       "[(2, 'Joe')]"
      ]
     },
     "execution_count": 134,
     "metadata": {},
     "output_type": "execute_result"
    }
   ],
   "source": [
    "# Funky idea\n",
    "#(Customer|name='Joe') , can probably be extended to the rest\n",
    "\n",
    "def myQuery2(query):\n",
    "    t = query.replace('(','').replace('|', \"\").replace(')',\"\").replace(\"name=\", \" \").replace('.',' ')\n",
    "    tlist = t.split()\n",
    "    return sqlQuery(f\"select * from {tlist[0]} where name={tlist[1]}\")\n",
    "\n",
    "\n",
    "    \n",
    "myQuery2(\"(Customer|name='Joe').Orders.OrderLine.Product\")\n"
   ]
  },
  {
   "cell_type": "code",
   "execution_count": null,
   "metadata": {},
   "outputs": [],
   "source": []
  },
  {
   "cell_type": "code",
   "execution_count": null,
   "metadata": {},
   "outputs": [],
   "source": []
  }
 ],
 "metadata": {
  "kernelspec": {
   "display_name": "Python 3",
   "language": "python",
   "name": "python3"
  },
  "language_info": {
   "codemirror_mode": {
    "name": "ipython",
    "version": 3
   },
   "file_extension": ".py",
   "mimetype": "text/x-python",
   "name": "python",
   "nbconvert_exporter": "python",
   "pygments_lexer": "ipython3",
   "version": "3.7.3"
  }
 },
 "nbformat": 4,
 "nbformat_minor": 2
}
