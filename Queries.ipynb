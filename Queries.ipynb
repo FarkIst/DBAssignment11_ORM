{
 "cells": [
  {
   "cell_type": "code",
   "execution_count": 68,
   "metadata": {},
   "outputs": [],
   "source": [
    "import sys\n",
    "import mysql.connector\n",
    "\n",
    "def connect(user):\n",
    "    conn = mysql.connector.connect(host='localhost', database='microshop', user=user)\n",
    "    conn.autocommit = True\n",
    "    return conn\n",
    "\n",
    "rootconn = connect('user')\n",
    "\n",
    "\n",
    "def sqlQuery(sqlString, conn=rootconn):\n",
    "    try:\n",
    "        cursor = rootconn.cursor()\n",
    "        cursor.execute(sqlString)\n",
    "        res = cursor.fetchall()\n",
    "        return res\n",
    "    except Exception as ex:\n",
    "        print(str(ex), file=sys.stderr)\n",
    "    finally:    \n",
    "        cursor.close()\n",
    "\n",
    "def sqlDo(sqlString, conn=rootconn):\n",
    "    try:\n",
    "        cursor = conn.cursor()\n",
    "        cursor.execute(sqlString)\n",
    "        res = cursor.fetchwarnings()\n",
    "        return res\n",
    "    except Exception as ex:\n",
    "        print(str(ex), file=sys.stderr)\n",
    "    finally:    \n",
    "        cursor.close()"
   ]
  },
  {
   "cell_type": "code",
   "execution_count": 69,
   "metadata": {},
   "outputs": [
    {
     "data": {
      "text/plain": [
       "[('customer',), ('order',), ('orderline',), ('product',)]"
      ]
     },
     "execution_count": 69,
     "metadata": {},
     "output_type": "execute_result"
    }
   ],
   "source": [
    "sqlQuery(\"show tables\")"
   ]
  },
  {
   "cell_type": "code",
   "execution_count": 85,
   "metadata": {},
   "outputs": [
    {
     "name": "stderr",
     "output_type": "stream",
     "text": [
      "No result set to fetch from.\n"
     ]
    }
   ],
   "source": [
    "sqlQuery(\"INSERT INTO `microshop`.`customer` (`name`) VALUES ('Joe');\");\n"
   ]
  },
  {
   "cell_type": "code",
   "execution_count": 70,
   "metadata": {},
   "outputs": [],
   "source": [
    "def myQuery(query):\n",
    "    q = f\"select * from {query}\"\n",
    "    print(q)\n",
    "    return sqlQuery(q)\n",
    "\n"
   ]
  },
  {
   "cell_type": "code",
   "execution_count": 86,
   "metadata": {},
   "outputs": [
    {
     "name": "stdout",
     "output_type": "stream",
     "text": [
      "select * from customer\n",
      "(1, 'Bob')\n",
      "(2, 'Dave')\n",
      "(3, 'Farkas')\n",
      "(4, 'Arkadius')\n",
      "(5, 'Vlad')\n",
      "(6, 'Joe')\n",
      "(7, 'Doe')\n"
     ]
    }
   ],
   "source": [
    "#return all customers\n",
    "\n",
    "customers = myQuery(\"customer\")\n",
    "for customer in customers:\n",
    "    print(customer)"
   ]
  },
  {
   "cell_type": "code",
   "execution_count": 79,
   "metadata": {},
   "outputs": [],
   "source": [
    "#Updating myQuery\n",
    "\n",
    "def myQuery1(query):\n",
    "    res = query.split('.')\n",
    "    if(len(res) < 2):\n",
    "        q = f\"select * from {query.lower()}\"\n",
    "        return sqlQuery(q) \n",
    "    else:\n",
    "        q = f\"select {res[1].lower()} from {res[0].lower()}\"\n",
    "        print(q)\n",
    "        return sqlQuery(q)\n",
    "\n",
    "\n"
   ]
  },
  {
   "cell_type": "code",
   "execution_count": 83,
   "metadata": {},
   "outputs": [
    {
     "name": "stdout",
     "output_type": "stream",
     "text": [
      "select name from customer\n",
      "('Bob',)\n",
      "('Dave',)\n",
      "('Farkas',)\n",
      "('Arkadius',)\n",
      "('Vlad',)\n"
     ]
    }
   ],
   "source": [
    "#return all customer names\n",
    "\n",
    "names = myQuery1(\"Customer.name\")\n",
    "for name in names:\n",
    "    print(name)"
   ]
  },
  {
   "cell_type": "code",
   "execution_count": 84,
   "metadata": {},
   "outputs": [
    {
     "data": {
      "text/plain": [
       "[(5, 'Vlad')]"
      ]
     },
     "execution_count": 84,
     "metadata": {},
     "output_type": "execute_result"
    }
   ],
   "source": [
    "# Funky idea\n",
    "#(Customer|name='Joe') , can probably be extended to the rest\n",
    "\n",
    "def myQuery2(query):\n",
    "    t = query.replace('(','').replace('|', \"\").replace(')',\"\").replace(\"name=\", \" \").replace('.',' ')\n",
    "    tlist = t.split()\n",
    "    return sqlQuery(f\"select * from {tlist[0].lower()} where name={tlist[1]}\")\n",
    "\n",
    "\n",
    "    \n",
    "myQuery2(\"(Customer|name='Joe').Orders.OrderLine.Product\")\n"
   ]
  },
  {
   "cell_type": "code",
   "execution_count": null,
   "metadata": {},
   "outputs": [],
   "source": []
  }
 ],
 "metadata": {
  "kernelspec": {
   "display_name": "Python 3",
   "language": "python",
   "name": "python3"
  },
  "language_info": {
   "codemirror_mode": {
    "name": "ipython",
    "version": 3
   },
   "file_extension": ".py",
   "mimetype": "text/x-python",
   "name": "python",
   "nbconvert_exporter": "python",
   "pygments_lexer": "ipython3",
   "version": "3.6.7"
  }
 },
 "nbformat": 4,
 "nbformat_minor": 2
}
