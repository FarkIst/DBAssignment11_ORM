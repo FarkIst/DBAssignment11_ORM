{
 "cells": [
  {
   "cell_type": "code",
   "execution_count": 77,
   "metadata": {},
   "outputs": [
    {
     "name": "stdout",
     "output_type": "stream",
     "text": [
      "{'entities': [{'Customer': {'name': 'String', 'orders': '*Order'}},\n",
      "              {'Order': {'customer': 'Customer',\n",
      "                         'date': 'String',\n",
      "                         'lines': '*OrderLine',\n",
      "                         'total': 'Number'}},\n",
      "              {'OrderLine': {'count': 'Number',\n",
      "                             'order': 'Order',\n",
      "                             'product': 'Product',\n",
      "                             'total': 'Number'}},\n",
      "              {'Product': {'name': 'String', 'price': 'Number'}}],\n",
      " 'schemaName': 'MicroShop'}\n"
     ]
    }
   ],
   "source": [
    "import sys\n",
    "import mysql.connector\n",
    "import json\n",
    "from pprint import pprint\n",
    "\n",
    "def json_read(filename):\n",
    "   with open(filename) as f_in:\n",
    "       return(json.load(f_in))\n",
    "    \n",
    "structure = json_read(\"database_struct.json\")\n",
    "\n",
    "pprint(structure)\n",
    "\n",
    "def connect(user):\n",
    "    conn = mysql.connector.connect(host='localhost', database='microshop', user=user)\n",
    "    conn.autocommit = True\n",
    "    return conn\n",
    "\n",
    "rootconn = connect('user')\n",
    "\n",
    "\n",
    "def sqlQuery(sqlString, conn=rootconn):\n",
    "    try:\n",
    "        cursor = rootconn.cursor()\n",
    "        cursor.execute(sqlString)\n",
    "        res = cursor.fetchall()\n",
    "        return res\n",
    "    except Exception as ex:\n",
    "        print(str(ex), file=sys.stderr)\n",
    "    finally:    \n",
    "        cursor.close()\n",
    "\n",
    "def sqlDo(sqlString, conn=rootconn):\n",
    "    try:\n",
    "        cursor = conn.cursor()\n",
    "        cursor.execute(sqlString)\n",
    "        res = cursor.fetchwarnings()\n",
    "        return res\n",
    "    except Exception as ex:\n",
    "        print(str(ex), file=sys.stderr)\n",
    "    finally:    \n",
    "        cursor.close()"
   ]
  },
  {
   "cell_type": "code",
   "execution_count": 2,
   "metadata": {},
   "outputs": [
    {
     "data": {
      "text/plain": [
       "[('customer',), ('order',), ('orderline',), ('product',)]"
      ]
     },
     "execution_count": 2,
     "metadata": {},
     "output_type": "execute_result"
    }
   ],
   "source": [
    "sqlQuery(\"show tables\")"
   ]
  },
  {
   "cell_type": "code",
   "execution_count": 85,
   "metadata": {},
   "outputs": [
    {
     "name": "stderr",
     "output_type": "stream",
     "text": [
      "No result set to fetch from.\n"
     ]
    }
   ],
   "source": [
    "sqlQuery(\"INSERT INTO `microshop`.`customer` (`name`) VALUES ('Joe');\");\n",
    "sqlQuery(\"INSERT INTO `microshop`.`customer` (`name`) VALUES ('Vlad');\");\n",
    "sqlQuery(\"INSERT INTO `microshop`.`customer` (`name`) VALUES ('Farkas');\");\n",
    "sqlQuery(\"INSERT INTO `microshop`.`customer` (`name`) VALUES ('Arkadius');\");\n"
   ]
  },
  {
   "cell_type": "code",
   "execution_count": 4,
   "metadata": {},
   "outputs": [],
   "source": [
    "def myQuery(query):\n",
    "    q = f\"select * from {query}\"\n",
    "    print(q)\n",
    "    return sqlQuery(q)\n",
    "\n"
   ]
  },
  {
   "cell_type": "code",
   "execution_count": 5,
   "metadata": {},
   "outputs": [
    {
     "name": "stdout",
     "output_type": "stream",
     "text": [
      "select * from customer\n",
      "(1, 'Bob')\n",
      "(2, 'Dave')\n",
      "(3, 'Farkas')\n",
      "(4, 'Arkadius')\n",
      "(5, 'Vlad')\n",
      "(6, 'Joe')\n",
      "(7, 'Doe')\n"
     ]
    }
   ],
   "source": [
    "#return all customers\n",
    "\n",
    "customers = myQuery(\"customer\")\n",
    "for customer in customers:\n",
    "    print(customer)"
   ]
  },
  {
   "cell_type": "code",
   "execution_count": 6,
   "metadata": {},
   "outputs": [],
   "source": [
    "#Updating myQuery\n",
    "\n",
    "def myQuery1(query):\n",
    "    res = query.split('.')\n",
    "    if(len(res) < 2):\n",
    "        q = f\"select * from {query.lower()}\"\n",
    "        return sqlQuery(q) \n",
    "    else:\n",
    "        q = f\"select {res[1].lower()} from {res[0].lower()}\"\n",
    "        print(q)\n",
    "        return sqlQuery(q)\n",
    "\n",
    "\n"
   ]
  },
  {
   "cell_type": "code",
   "execution_count": 95,
   "metadata": {},
   "outputs": [
    {
     "name": "stdout",
     "output_type": "stream",
     "text": [
      "select name from customer\n",
      "('Bob',)\n",
      "('Dave',)\n",
      "('Farkas',)\n",
      "('Arkadius',)\n",
      "('Vlad',)\n",
      "('Joe',)\n",
      "('Doe',)\n"
     ]
    }
   ],
   "source": [
    "#return all customer names\n",
    "\n",
    "names = myQuery1(\"Customer.name\")\n",
    "for name in names:\n",
    "    print(name)"
   ]
  },
  {
   "cell_type": "code",
   "execution_count": 7,
   "metadata": {},
   "outputs": [
    {
     "data": {
      "text/plain": [
       "[(6, 'Joe')]"
      ]
     },
     "execution_count": 7,
     "metadata": {},
     "output_type": "execute_result"
    }
   ],
   "source": [
    "# Funky idea\n",
    "#(Customer|name='Joe') , can probably be extended to the rest\n",
    "\n",
    "def myQuery2(query):\n",
    "    t = query.replace('(','').replace('|', \"\").replace(')',\"\").replace(\"name=\", \" \").replace('.',' ')\n",
    "    tlist = t.split()\n",
    "    return sqlQuery(f\"select * from {tlist[0].lower()} where name={tlist[1]}\")\n",
    "\n",
    "\n",
    "    \n",
    "myQuery2(\"(Customer|name='Joe')\")"
   ]
  },
  {
   "cell_type": "code",
   "execution_count": 185,
   "metadata": {},
   "outputs": [
    {
     "name": "stdout",
     "output_type": "stream",
     "text": [
      "{'date': 'String', 'total': 'Number', 'customer': 'Customer', 'lines': '*OrderLine'}\n",
      "{'order': 'Order', 'product': 'Product', 'count': 'Number', 'total': 'Number'}\n",
      "Order\n",
      "{'name': 'String', 'price': 'Number'}\n",
      "WHERE CLAUSES: \n",
      " [\"name='Joe'\"]\n",
      "\n",
      "\n",
      "SELECT * FROM `customer`\n",
      "\t INNER JOIN `order` ON `customer`.id = `customer`.order_id\n",
      "\t INNER JOIN `orderline` ON `orderline`.id = `order`.orderline_id\n",
      "\t INNER JOIN `product` ON `orderline`.id = `orderline`.product_id\n",
      "\t WHERE `customer`.name='Joe';\n"
     ]
    },
    {
     "name": "stderr",
     "output_type": "stream",
     "text": [
      "1054 (42S22): Unknown column 'order.orderline_id' in 'on clause'\n"
     ]
    }
   ],
   "source": [
    "def myQuery3(query):\n",
    "    match = query.find(\"|\")\n",
    "    main_class = query[1:match]\n",
    "#     query = query[match+1:-1]\n",
    "    where_clauses = []\n",
    "    prev_match = 0\n",
    "    query = query[match+1:]\n",
    "    \n",
    "    while(query.find(\"|\") != -1):\n",
    "        match = query.find(\"|\")\n",
    "        where_clauses.append(query[prev_match:match])\n",
    "        prev_match = match\n",
    "        query = query[match+1:]\n",
    "        \n",
    "    match = query.find(\")\")\n",
    "    where_clauses.append(query[0:match])\n",
    "    query = query[match+1:]\n",
    "    \n",
    "    sql = \"SELECT * FROM `\" + main_class.lower() + \"`\"\n",
    "    \n",
    "    if(query != \"\"):\n",
    "        joins = query[1:].split(\".\")\n",
    "        \n",
    "#    SELECT  ID, NAME, AMOUNT, DATE\n",
    "#    FROM CUSTOMERS\n",
    "#    INNER JOIN ORDERS\n",
    "#    ON CUSTOMERS.ID = ORDERS.CUSTOMER_ID;\n",
    "        \n",
    "        if(joins[-1].islower()):\n",
    "            sql = \"SELECT `\" + joins[-1] + \"` FROM `\" + main_class.lower() + \"`\"\n",
    "            del joins[-1]\n",
    "        \n",
    "        prev_join = main_class\n",
    "        for join in joins:\n",
    "#             print(join)\n",
    "            for entity in structure[\"entities\"]:\n",
    "                if join in entity:\n",
    "                    print(entity[join])\n",
    "                    for attribute_name in entity[join]:\n",
    "                        if(prev_join in entity[join][attribute_name]):\n",
    "                            print(prev_join)\n",
    "                            sql += \"\\n\\t INNER JOIN `\" + join.lower() + \"` ON `\" + join.lower() + \"`.id = `\" + prev_join.lower() + \"`.\" + join.lower() + \"_id\"                            \n",
    "                        else:\n",
    "                            sql += \"\\n\\t INNER JOIN `\" + join.lower() + \"` ON `\" + prev_join.lower() + \"`.id = `\" + prev_join.lower() + \"`.\" + join.lower() + \"_id\"\n",
    "                        break;\n",
    "            prev_join = join\n",
    "\n",
    "    if(where_clauses != []):\n",
    "        for clause in where_clauses:\n",
    "            sql += \"\\n\\t WHERE `\" + main_class.lower() + \"`.\" + clause + \" AND\"\n",
    "    \n",
    "    sql = sql[:-4]\n",
    "    sql += \";\"\n",
    "    print(\"WHERE CLAUSES: \\n\", where_clauses)\n",
    "    print(\"\\n\")\n",
    "    print(sql)\n",
    "    sqlDo(sql)\n",
    "#     t = query.replace('(','').replace('|', \"\").replace(')',\"\").replace(\"name=\", \" \").replace('.',' ')\n",
    "#     tlist = t.split()\n",
    "#     return sqlQuery(f\"select * from {tlist[0].lower()} where name={tlist[1]}\")\n",
    "\n",
    "\n",
    "myQuery3(\"(Customer|name='Joe').Order.OrderLine.Product\")\n"
   ]
  }
 ],
 "metadata": {
  "kernelspec": {
   "display_name": "Python 3",
   "language": "python",
   "name": "python3"
  },
  "language_info": {
   "codemirror_mode": {
    "name": "ipython",
    "version": 3
   },
   "file_extension": ".py",
   "mimetype": "text/x-python",
   "name": "python",
   "nbconvert_exporter": "python",
   "pygments_lexer": "ipython3",
   "version": "3.6.7"
  }
 },
 "nbformat": 4,
 "nbformat_minor": 2
}
