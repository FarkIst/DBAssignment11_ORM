{
 "cells": [
  {
   "cell_type": "code",
   "execution_count": 2,
   "metadata": {},
   "outputs": [
    {
     "name": "stdout",
     "output_type": "stream",
     "text": [
      "{'entities': [{'Customer': {'name': 'String', 'orders': '*Order'}},\n",
      "              {'Order': {'customer': 'Customer',\n",
      "                         'date': 'String',\n",
      "                         'lines': '*OrderLine',\n",
      "                         'total': 'Number'}},\n",
      "              {'OrderLine': {'count': 'Number',\n",
      "                             'order': 'Order',\n",
      "                             'product': 'Product',\n",
      "                             'total': 'Number'}},\n",
      "              {'Product': {'name': 'String', 'price': 'Number'}}],\n",
      " 'schemaName': 'MicroShop'}\n"
     ]
    }
   ],
   "source": [
    "import json\n",
    "from pprint import pprint\n",
    "\n",
    "def json_read(filename):\n",
    "   with open(filename) as f_in:\n",
    "       return(json.load(f_in))\n",
    "    \n",
    "structure = json_read(\"database_struct.json\")\n",
    "\n",
    "pprint(structure)"
   ]
  },
  {
   "cell_type": "code",
   "execution_count": 8,
   "metadata": {},
   "outputs": [
    {
     "name": "stdout",
     "output_type": "stream",
     "text": [
      "CREATE DATABASE IF NOT EXISTS `microshop`;\n",
      "\n",
      "DROP TABLE IF EXISTS `microshop`;\n",
      "CREATE TABLE `microshop`.`customer` (\n",
      "\t`id` INT NOT NULL,\n",
      "\tPRIMARY KEY (`id`),\n",
      "\t`name` VARCHAR(45) NULL\n",
      ");\n",
      "\n",
      "DROP TABLE IF EXISTS `microshop`;\n",
      "CREATE TABLE `microshop`.`order` (\n",
      "\t`id` INT NOT NULL,\n",
      "\tPRIMARY KEY (`id`),\n",
      "\t`date` VARCHAR(45) NULL,\n",
      "\t`total` INT NULL,\n",
      "\t`customer_id` INT NULL\n",
      ");\n",
      "\n",
      "DROP TABLE IF EXISTS `microshop`;\n",
      "CREATE TABLE `microshop`.`orderline` (\n",
      "\t`id` INT NOT NULL,\n",
      "\tPRIMARY KEY (`id`),\n",
      "\t`order_id` INT NULL,\n",
      "\t`product_id` INT NULL,\n",
      "\t`count` INT NULL,\n",
      "\t`total` INT NULL\n",
      ");\n",
      "\n",
      "DROP TABLE IF EXISTS `microshop`;\n",
      "CREATE TABLE `microshop`.`product` (\n",
      "\t`id` INT NOT NULL,\n",
      "\tPRIMARY KEY (`id`),\n",
      "\t`name` VARCHAR(45) NULL,\n",
      "\t`price` INT NULL\n",
      ");\n",
      "\n",
      "\n"
     ]
    }
   ],
   "source": [
    "sql = \"CREATE DATABASE IF NOT EXISTS `\" + structure['schemaName'].lower() + \"`;\\n\\n\"\n",
    "\n",
    "# pprint(structure['entities'])\n",
    "\n",
    "for entity in structure['entities']:\n",
    "    for className in entity:\n",
    "        sql += \"DROP TABLE IF EXISTS `\" + className.lower() + \"`;\\n\"\n",
    "        sql += \"CREATE TABLE `\" + structure['schemaName'].lower() + \"`.`\" + className.lower() + \"` (\\n\"\n",
    "        sql += \"\\t`id` INT NOT NULL,\\n\"\n",
    "        sql += \"\\tPRIMARY KEY (`id`),\\n\"\n",
    "#         print(entity[className])\n",
    "        for attribute_name in entity[className]:\n",
    "            field_type = entity[className][attribute_name]\n",
    "#             print(column_name, entity[className][attribute])\n",
    "            if field_type == 'String':\n",
    "                column_type = \"VARCHAR(45)\"\n",
    "            else:\n",
    "                column_type = \"INT\"\n",
    "            \n",
    "            column_name = attribute_name\n",
    "            \n",
    "            if field_type[0] == \"*\":\n",
    "                continue\n",
    "            \n",
    "            if field_type !='String' and field_type !='Number':\n",
    "                column_name = inflection.underscore(attribute_name) + \"_id\"\n",
    "                sql += \"\\t`\"+ column_name +\"` \" + column_type + \" NULL,\\n\"\n",
    "                continue\n",
    "#                 print(column_name)\n",
    "\n",
    "            sql += \"\\t`\"+ column_name +\"` \" + column_type + \" NULL,\\n\"\n",
    "        sql = sql[:-2]\n",
    "        sql += \"\\n);\\n\\n\"\n",
    "\n",
    "print(sql)\n",
    "\n",
    "with open(\"generated.sql\",\"w\") as f_out:\n",
    "       f_out.write(sql);"
   ]
  },
  {
   "cell_type": "code",
   "execution_count": 9,
   "metadata": {},
   "outputs": [],
   "source": [
    "# Python class example\n",
    "class Complex:\n",
    "     def __init__(self, realpart, imagpart):\n",
    "         self.r = realpart\n",
    "         self.i = imagpart"
   ]
  },
  {
   "cell_type": "code",
   "execution_count": 10,
   "metadata": {},
   "outputs": [
    {
     "name": "stdout",
     "output_type": "stream",
     "text": [
      "class Customer:\n",
      "\tdef __init__(self, name, orders)\n",
      "\t\tself.name = name\n",
      "\t\tself.orders = orders\n",
      "\n",
      "class Order:\n",
      "\tdef __init__(self, date, total, customer, lines)\n",
      "\t\tself.date = date\n",
      "\t\tself.total = total\n",
      "\t\tself.customer = customer\n",
      "\t\tself.lines = lines\n",
      "\n",
      "class OrderLine:\n",
      "\tdef __init__(self, order, product, count, total)\n",
      "\t\tself.order = order\n",
      "\t\tself.product = product\n",
      "\t\tself.count = count\n",
      "\t\tself.total = total\n",
      "\n",
      "class Product:\n",
      "\tdef __init__(self, name, price)\n",
      "\t\tself.name = name\n",
      "\t\tself.price = price\n",
      "\n"
     ]
    }
   ],
   "source": [
    "for entity in structure['entities']:\n",
    "    for className in entity:\n",
    "#         print(className)\n",
    "        class_string = \"class \" + className + \":\\n\"\n",
    "        class_string += \"\\tdef __init__(self\"\n",
    "        for attribute_name in entity[className]:\n",
    "            class_string += \", \" + attribute_name\n",
    "        class_string += \")\\n\"\n",
    "        \n",
    "        for attribute_name in entity[className]:\n",
    "            class_string += \"\\t\\tself.\" + attribute_name + \" = \" + attribute_name + \"\\n\"\n",
    "        with open(className.lower() + \".py\",\"w\") as f_out:\n",
    "           f_out.write(class_string);\n",
    "    print(class_string)"
   ]
  }
 ],
 "metadata": {
  "kernelspec": {
   "display_name": "Python 3",
   "language": "python",
   "name": "python3"
  },
  "language_info": {
   "codemirror_mode": {
    "name": "ipython",
    "version": 3
   },
   "file_extension": ".py",
   "mimetype": "text/x-python",
   "name": "python",
   "nbconvert_exporter": "python",
   "pygments_lexer": "ipython3",
   "version": "3.6.7"
  }
 },
 "nbformat": 4,
 "nbformat_minor": 2
}
