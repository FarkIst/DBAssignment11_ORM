{
 "cells": [
  {
   "cell_type": "code",
   "execution_count": 2,
   "metadata": {},
   "outputs": [
    {
     "name": "stdout",
     "output_type": "stream",
     "text": [
      "{'entities': [{'Customer': {'name': 'String', 'orders': '*Order'}},\n",
      "              {'Order': {'customer': 'Customer',\n",
      "                         'date': 'String',\n",
      "                         'lines': '*OrderLine',\n",
      "                         'total': 'Number'}},\n",
      "              {'OrderLine': {'count': 'Number',\n",
      "                             'order': 'Order',\n",
      "                             'product': 'Product',\n",
      "                             'total': 'Number'}},\n",
      "              {'Product': {'name': 'String', 'price': 'Number'}}],\n",
      " 'schemaName': 'MicroShop'}\n"
     ]
    }
   ],
   "source": [
    "import json\n",
    "from pprint import pprint\n",
    "\n",
    "def json_read(filename):\n",
    "   with open(filename) as f_in:\n",
    "       return(json.load(f_in))\n",
    "    \n",
    "structure = json_read(\"database_struct.json\")\n",
    "\n",
    "pprint(structure)"
   ]
  },
  {
   "cell_type": "code",
   "execution_count": 36,
   "metadata": {},
   "outputs": [
    {
     "name": "stdout",
     "output_type": "stream",
     "text": [
      "CREATE SCHEMA `MicroShop`;\n",
      "\n",
      "CREATE TABLE `MicroShop`.`customer` (\n",
      "\t`id` INT NOT NULL,\n",
      "\tPRIMARY KEY (`id`),\n",
      "\t`name` VARCHAR(45) NULL,\n",
      "\t`orders` INT NULL\n",
      ");\n",
      "\n",
      "CREATE TABLE `MicroShop`.`order` (\n",
      "\t`id` INT NOT NULL,\n",
      "\tPRIMARY KEY (`id`),\n",
      "\t`date` VARCHAR(45) NULL,\n",
      "\t`total` INT NULL,\n",
      "\t`customer` INT NULL,\n",
      "\t`lines` INT NULL\n",
      ");\n",
      "\n",
      "CREATE TABLE `MicroShop`.`order_line` (\n",
      "\t`id` INT NOT NULL,\n",
      "\tPRIMARY KEY (`id`),\n",
      "\t`order` INT NULL,\n",
      "\t`product` INT NULL,\n",
      "\t`count` INT NULL,\n",
      "\t`total` INT NULL\n",
      ");\n",
      "\n",
      "CREATE TABLE `MicroShop`.`product` (\n",
      "\t`id` INT NOT NULL,\n",
      "\tPRIMARY KEY (`id`),\n",
      "\t`name` VARCHAR(45) NULL,\n",
      "\t`price` INT NULL\n",
      ");\n",
      "\n",
      "\n"
     ]
    }
   ],
   "source": [
    "import inflection\n",
    "\n",
    "sql = \"CREATE SCHEMA `\" + structure['schemaName'] + \"`;\\n\\n\"\n",
    "\n",
    "# pprint(structure['entities'])\n",
    "\n",
    "for entity in structure['entities']:\n",
    "    for className in entity:       \n",
    "        sql += \"CREATE TABLE `\" + structure['schemaName'] + \"`.`\" + inflection.underscore(className) + \"` (\\n\"\n",
    "        sql += \"\\t`id` INT NOT NULL,\\n\"\n",
    "        sql += \"\\tPRIMARY KEY (`id`),\\n\"\n",
    "#         print(entity[className])\n",
    "        for column_name in entity[className]:\n",
    "            field_type = entity[className][column_name]\n",
    "#             print(column_name, entity[className][attribute])\n",
    "            if field_type == 'String':\n",
    "                column_type = \"VARCHAR(45)\"\n",
    "            else:\n",
    "                column_type = \"INT\"\n",
    "\n",
    "            if column_name[0] =='*':\n",
    "                column_name = inflection.underscore(attribute) + \"_id\"\n",
    "\n",
    "            sql += \"\\t`\"+ column_name +\"` \" + column_type + \" NULL,\\n\"\n",
    "        sql = sql[:-2]\n",
    "        sql += \"\\n);\\n\\n\"\n",
    "\n",
    "print(sql)"
   ]
  }
 ],
 "metadata": {
  "kernelspec": {
   "display_name": "Python 3",
   "language": "python",
   "name": "python3"
  },
  "language_info": {
   "codemirror_mode": {
    "name": "ipython",
    "version": 3
   },
   "file_extension": ".py",
   "mimetype": "text/x-python",
   "name": "python",
   "nbconvert_exporter": "python",
   "pygments_lexer": "ipython3",
   "version": "3.6.7"
  }
 },
 "nbformat": 4,
 "nbformat_minor": 2
}
